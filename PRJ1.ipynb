{
 "cells": [
  {
   "cell_type": "code",
   "execution_count": 1,
   "metadata": {
    "scrolled": true
   },
   "outputs": [],
   "source": [
    "import pandas as pd\n",
    "import numpy as np\n",
    "import os\n",
    "import sys\n",
    "import matplotlib.pyplot as plt\n",
    "\n",
    "\n",
    "path1= \"D:\\DIT\\Python Programs\\DataMining\\data\\\\april\"\n",
    "path2= \"D:\\DIT\\Python Programs\\DataMining\\data\\\\febrouary\"\n",
    "path3= \"D:\\DIT\\Python Programs\\DataMining\\data\\\\march\"\n",
    "df1=pd.read_csv(path1+\"\\\\\"+\"listings.csv\",usecols=[\n",
    "'id',\n",
    "'zipcode',\n",
    "'transit',\n",
    "'bedrooms',\n",
    "'beds',\n",
    "'review_scores_rating',\n",
    "'number_of_reviews',\n",
    "'neighbourhood',\n",
    "'name',\n",
    "'latitude',\n",
    "'longitude',\n",
    "'last_review',\n",
    "'instant_bookable',\n",
    "'host_since',\n",
    "'host_response_rate',\n",
    "'host_identity_verified',\n",
    "'host_has_profile_pic',\n",
    "'first_review',\n",
    "'description',\n",
    "'city',\n",
    "'cancellation_policy',\n",
    "'bed_type',\n",
    "'bathrooms',\n",
    "'accommodates',\n",
    "'amenities',\n",
    "'room_type',\n",
    "'property_type',\n",
    "'price',\n",
    "'availability_365',\n",
    "'minimum_nights'\n",
    "])\n",
    "df2=pd.read_csv(path2+\"\\\\\"+\"listings.csv\",usecols=[\n",
    "'id',\n",
    "'zipcode',\n",
    "'transit',\n",
    "'bedrooms',\n",
    "'beds',\n",
    "'review_scores_rating',\n",
    "'number_of_reviews',\n",
    "'neighbourhood',\n",
    "'name',\n",
    "'latitude',\n",
    "'longitude',\n",
    "'last_review',\n",
    "'instant_bookable',\n",
    "'host_since',\n",
    "'host_response_rate',\n",
    "'host_identity_verified',\n",
    "'host_has_profile_pic',\n",
    "'first_review',\n",
    "'description',\n",
    "'city',\n",
    "'cancellation_policy',\n",
    "'bed_type',\n",
    "'bathrooms',\n",
    "'accommodates',\n",
    "'amenities',\n",
    "'room_type',\n",
    "'property_type',\n",
    "'price',\n",
    "'availability_365',\n",
    "'minimum_nights'\n",
    "])\n",
    "df3=pd.read_csv(path3+\"\\\\\"+\"listings.csv\",usecols=[\n",
    "'id',\n",
    "'zipcode',\n",
    "'transit',\n",
    "'bedrooms',\n",
    "'beds',\n",
    "'review_scores_rating',\n",
    "'number_of_reviews',\n",
    "'neighbourhood',\n",
    "'name',\n",
    "'latitude',\n",
    "'longitude',\n",
    "'last_review',\n",
    "'instant_bookable',\n",
    "'host_since',\n",
    "'host_response_rate',\n",
    "'host_identity_verified',\n",
    "'host_has_profile_pic',\n",
    "'first_review',\n",
    "'description',\n",
    "'city',\n",
    "'cancellation_policy',\n",
    "'bed_type',\n",
    "'bathrooms',\n",
    "'accommodates',\n",
    "'amenities',\n",
    "'room_type',\n",
    "'property_type',\n",
    "'price',\n",
    "'availability_365',\n",
    "'minimum_nights'\n",
    "])\n",
    "df1['month'] = 'April'\n",
    "df1['month'].fillna('April', inplace = True)\n",
    "\n",
    "df2['month'] = 'February'\n",
    "df2['month'].fillna('February', inplace = True)\n",
    "\n",
    "df3['month'] = 'March'\n",
    "df3['month'].fillna('March', inplace = True)\n",
    "\n",
    "df = df1.append(df2)\n",
    "df = df.append(df3)\n",
    "df.drop_duplicates(inplace=True)\n",
    "df.to_csv('train.csv', index=False, header=True)\n",
    "df=df.dropna(axis=0, how=\"any\")"
   ]
  },
  {
   "cell_type": "code",
   "execution_count": 2,
   "metadata": {},
   "outputs": [],
   "source": [
    "#Question 1.1"
   ]
  },
  {
   "cell_type": "code",
   "execution_count": 3,
   "metadata": {
    "scrolled": true
   },
   "outputs": [
    {
     "name": "stdout",
     "output_type": "stream",
     "text": [
      "Entire home/apt: 13089\n"
     ]
    }
   ],
   "source": [
    "rtypes = df['room_type'].value_counts().index[0]\n",
    "most_rtype=df['room_type'].value_counts().max()\n",
    "print(rtypes+\": %d\" % most_rtype)"
   ]
  },
  {
   "cell_type": "code",
   "execution_count": 4,
   "metadata": {},
   "outputs": [],
   "source": [
    "#Question 1.2"
   ]
  },
  {
   "cell_type": "code",
   "execution_count": 5,
   "metadata": {
    "scrolled": true
   },
   "outputs": [
    {
     "data": {
      "image/png": "[encoded data removed]",
      "text/plain": [
       "<Figure size 432x288 with 1 Axes>"
      ]
     },
     "metadata": {
      "needs_background": "light"
     },
     "output_type": "display_data"
    }
   ],
   "source": [
    "df.groupby('month')['price'].count().plot.bar();"
   ]
  },
  {
   "cell_type": "code",
   "execution_count": 6,
   "metadata": {},
   "outputs": [],
   "source": [
    "#Question 1.3"
   ]
  },
  {
   "cell_type": "code",
   "execution_count": 7,
   "metadata": {},
   "outputs": [
    {
     "name": "stdout",
     "output_type": "stream",
     "text": [
      "Plaka : 972\n",
      "Koukaki : 745\n",
      "Neos Kosmos : 613\n",
      "Kolonaki : 476\n",
      "Pangrati : 384\n"
     ]
    }
   ],
   "source": [
    "df.sort_values('number_of_reviews',inplace = True,ascending=False)\n",
    "n_list=df['neighbourhood'].value_counts()[:5].index.tolist()\n",
    "review_num=df['number_of_reviews'].value_counts()[:5].tolist()\n",
    "for i in range(0,5):\n",
    "    print(n_list[i],\": %d\"%review_num[i])"
   ]
  },
  {
   "cell_type": "code",
   "execution_count": 8,
   "metadata": {},
   "outputs": [],
   "source": [
    "#Question 1.4"
   ]
  },
  {
   "cell_type": "code",
   "execution_count": 9,
   "metadata": {},
   "outputs": [
    {
     "name": "stdout",
     "output_type": "stream",
     "text": [
      "Plaka: 663\n"
     ]
    }
   ],
   "source": [
    "new_df=df.copy()\n",
    "new_df.drop_duplicates(inplace=True,subset=\"id\")\n",
    "hood = new_df['neighbourhood'].value_counts().index[0]\n",
    "num_hood=new_df['neighbourhood'].value_counts().max()\n",
    "print(hood+\": %d\" % num_hood)"
   ]
  },
  {
   "cell_type": "code",
   "execution_count": 10,
   "metadata": {},
   "outputs": [],
   "source": [
    "#Question 1.5"
   ]
  },
  {
   "cell_type": "code",
   "execution_count": 11,
   "metadata": {},
   "outputs": [
    {
     "name": "stdout",
     "output_type": "stream",
     "text": [
      "Registrations per neighbourhood\n",
      "\n",
      "Plaka                663\n",
      "Koukaki              522\n",
      "Neos Kosmos          480\n",
      "Kolonaki             329\n",
      "Pangrati             327\n",
      "Psyri                308\n",
      "Ambelokipi           288\n",
      "Larissis             286\n",
      "Exarcheia            246\n",
      "Metaxourgeio         233\n",
      "Kerameikos           202\n",
      "Mets                 154\n",
      "Attiki               145\n",
      "Petralona            135\n",
      "Kypseli              118\n",
      "Neapoli              111\n",
      "Patisia              109\n",
      "Agios Nikolaos       103\n",
      "Pedion Areos          98\n",
      "Ilisia                95\n",
      "Thiseio               90\n",
      "Kolonos               73\n",
      "Gazi                  47\n",
      "Votanikos             37\n",
      "Agios Loukas          22\n",
      "Akadimia Platonos     21\n",
      "Sepolia               18\n",
      "Monastiraki           17\n",
      "Goudi                 13\n",
      "Rizoupoli              9\n",
      "Profitis Daniil        6\n",
      "Rouf                   2\n",
      "Name: neighbourhood, dtype: int64\n",
      "\n",
      "\n",
      "Registrations per month\n",
      "\n",
      "April       3774\n",
      "March        885\n",
      "February     648\n",
      "Name: month, dtype: int64\n"
     ]
    }
   ],
   "source": [
    "perhood= new_df['neighbourhood'].value_counts()\n",
    "print(\"Registrations per neighbourhood\\n\")\n",
    "print(perhood)\n",
    "permonth=new_df['month'].value_counts()\n",
    "print(\"\\n\\nRegistrations per month\\n\")\n",
    "print(permonth)"
   ]
  },
  {
   "cell_type": "code",
   "execution_count": 12,
   "metadata": {},
   "outputs": [],
   "source": [
    "#Question 1.6"
   ]
  },
  {
   "cell_type": "code",
   "execution_count": 15,
   "metadata": {},
   "outputs": [
    {
     "data": {
      "text/plain": [
       "<BarContainer object of 32 artists>"
      ]
     },
     "execution_count": 15,
     "metadata": {},
     "output_type": "execute_result"
    },
    {
     "data": {
      "image/png": "[encoded data removed]",
      "text/plain": [
       "<Figure size 1440x432 with 1 Axes>"
      ]
     },
     "metadata": {
      "needs_background": "light"
     },
     "output_type": "display_data"
    }
   ],
   "source": [
    "hoods=[]\n",
    "frequency=[]\n",
    "for i,j in perhood.items():\n",
    "  hoods.append(i)\n",
    "  frequency.append(j)\n",
    "plt.figure(figsize=(20,6))\n",
    "y_pos = range(len(hoods))\n",
    "plt.xticks(y_pos,hoods, rotation=90)\n",
    "plt.bar(hoods, frequency)\n",
    "\n",
    "#i hope you didn't just need a plt.hist(perhoods) histogram..."
   ]
  },
  {
   "cell_type": "code",
   "execution_count": 17,
   "metadata": {},
   "outputs": [
    {
     "data": {
      "text/plain": [
       "(array([10.,  8.,  3.,  3.,  5.,  0.,  0.,  2.,  0.,  1.]),\n",
       " array([  2. ,  68.1, 134.2, 200.3, 266.4, 332.5, 398.6, 464.7, 530.8,\n",
       "        596.9, 663. ]),\n",
       " <a list of 10 Patch objects>)"
      ]
     },
     "execution_count": 17,
     "metadata": {},
     "output_type": "execute_result"
    },
    {
     "data": {
      "image/png": "[encoded data removed]",
      "text/plain": [
       "<Figure size 432x288 with 1 Axes>"
      ]
     },
     "metadata": {
      "needs_background": "light"
     },
     "output_type": "display_data"
    }
   ],
   "source": [
    "#In case you actually wanted that just uncomment the line below\n",
    "#plt.hist(perhood)"
   ]
  },
  {
   "cell_type": "code",
   "execution_count": null,
   "metadata": {},
   "outputs": [],
   "source": []
  }
 ],
 "metadata": {
  "kernelspec": {
   "display_name": "Python 3",
   "language": "python",
   "name": "python3"
  },
  "language_info": {
   "codemirror_mode": {
    "name": "ipython",
    "version": 3
   },
   "file_extension": ".py",
   "mimetype": "text/x-python",
   "name": "python",
   "nbconvert_exporter": "python",
   "pygments_lexer": "ipython3",
   "version": "3.7.6"
  }
 },
 "nbformat": 4,
 "nbformat_minor": 4
}
