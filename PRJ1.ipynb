{
 "cells": [
  {
   "cell_type": "code",
   "execution_count": 1,
   "metadata": {
    "scrolled": true
   },
   "outputs": [],
   "source": [
    "import pandas as pd\n",
    "import numpy as np\n",
    "import os\n",
    "import sys\n",
    "\n",
    "\n",
    "path1= \"D:\\DIT\\Python Programs\\DataMining\\data\\\\april\"\n",
    "path2= \"D:\\DIT\\Python Programs\\DataMining\\data\\\\febrouary\"\n",
    "path3= \"D:\\DIT\\Python Programs\\DataMining\\data\\\\march\"\n",
    "df1=pd.read_csv(path1+\"\\\\\"+\"listings.csv\",usecols=[\n",
    "'id',\n",
    "'zipcode',\n",
    "'transit',\n",
    "'bedrooms',\n",
    "'beds',\n",
    "'review_scores_rating',\n",
    "'number_of_reviews',\n",
    "'neighbourhood',\n",
    "'name',\n",
    "'latitude',\n",
    "'longitude',\n",
    "'last_review',\n",
    "'instant_bookable',\n",
    "'host_since',\n",
    "'host_response_rate',\n",
    "'host_identity_verified',\n",
    "'host_has_profile_pic',\n",
    "'first_review',\n",
    "'description',\n",
    "'city',\n",
    "'cancellation_policy',\n",
    "'bed_type',\n",
    "'bathrooms',\n",
    "'accommodates',\n",
    "'amenities',\n",
    "'room_type',\n",
    "'property_type',\n",
    "'price',\n",
    "'availability_365',\n",
    "'minimum_nights'\n",
    "])\n",
    "df2=pd.read_csv(path2+\"\\\\\"+\"listings.csv\",usecols=[\n",
    "'id',\n",
    "'zipcode',\n",
    "'transit',\n",
    "'bedrooms',\n",
    "'beds',\n",
    "'review_scores_rating',\n",
    "'number_of_reviews',\n",
    "'neighbourhood',\n",
    "'name',\n",
    "'latitude',\n",
    "'longitude',\n",
    "'last_review',\n",
    "'instant_bookable',\n",
    "'host_since',\n",
    "'host_response_rate',\n",
    "'host_identity_verified',\n",
    "'host_has_profile_pic',\n",
    "'first_review',\n",
    "'description',\n",
    "'city',\n",
    "'cancellation_policy',\n",
    "'bed_type',\n",
    "'bathrooms',\n",
    "'accommodates',\n",
    "'amenities',\n",
    "'room_type',\n",
    "'property_type',\n",
    "'price',\n",
    "'availability_365',\n",
    "'minimum_nights'\n",
    "])\n",
    "df3=pd.read_csv(path3+\"\\\\\"+\"listings.csv\",usecols=[\n",
    "'id',\n",
    "'zipcode',\n",
    "'transit',\n",
    "'bedrooms',\n",
    "'beds',\n",
    "'review_scores_rating',\n",
    "'number_of_reviews',\n",
    "'neighbourhood',\n",
    "'name',\n",
    "'latitude',\n",
    "'longitude',\n",
    "'last_review',\n",
    "'instant_bookable',\n",
    "'host_since',\n",
    "'host_response_rate',\n",
    "'host_identity_verified',\n",
    "'host_has_profile_pic',\n",
    "'first_review',\n",
    "'description',\n",
    "'city',\n",
    "'cancellation_policy',\n",
    "'bed_type',\n",
    "'bathrooms',\n",
    "'accommodates',\n",
    "'amenities',\n",
    "'room_type',\n",
    "'property_type',\n",
    "'price',\n",
    "'availability_365',\n",
    "'minimum_nights'\n",
    "])\n",
    "df1['month'] = 'April'\n",
    "df1['month'].fillna('April', inplace = True)\n",
    "\n",
    "df2['month'] = 'February'\n",
    "df2['month'].fillna('February', inplace = True)\n",
    "\n",
    "df3['month'] = 'March'\n",
    "df3['month'].fillna('March', inplace = True)\n",
    "\n",
    "df = df1.append(df2)\n",
    "df = df.append(df3)\n",
    "df.drop_duplicates(keep=False, inplace=True)\n",
    "df.to_csv('train.csv', index=False, header=True)\n",
    "df=df.dropna(axis=0, how=\"any\")"
   ]
  },
  {
   "cell_type": "code",
   "execution_count": 2,
   "metadata": {},
   "outputs": [],
   "source": [
    "#Question 1.1"
   ]
  },
  {
   "cell_type": "code",
   "execution_count": 3,
   "metadata": {
    "scrolled": true
   },
   "outputs": [
    {
     "name": "stdout",
     "output_type": "stream",
     "text": [
      "Entire home/apt: 13089\n"
     ]
    }
   ],
   "source": [
    "rtypes = df['room_type'].value_counts().index[0]\n",
    "most_rtype=df['room_type'].value_counts().max()\n",
    "print(rtypes+\": %d\" % most_rtype)"
   ]
  },
  {
   "cell_type": "code",
   "execution_count": 4,
   "metadata": {},
   "outputs": [],
   "source": [
    "#Question 1.2"
   ]
  },
  {
   "cell_type": "code",
   "execution_count": 5,
   "metadata": {
    "scrolled": true
   },
   "outputs": [
    {
     "data": {
      "image/png": "[encoded data removed]",
      "text/plain": [
       "<Figure size 432x288 with 1 Axes>"
      ]
     },
     "metadata": {
      "needs_background": "light"
     },
     "output_type": "display_data"
    }
   ],
   "source": [
    "df.groupby('month')['price'].count().plot.bar();"
   ]
  },
  {
   "cell_type": "code",
   "execution_count": 7,
   "metadata": {},
   "outputs": [],
   "source": [
    "#Question 1.3"
   ]
  },
  {
   "cell_type": "code",
   "execution_count": 18,
   "metadata": {},
   "outputs": [
    {
     "name": "stdout",
     "output_type": "stream",
     "text": [
      "Plaka : 972\n",
      "Koukaki : 745\n",
      "Neos Kosmos : 613\n",
      "Kolonaki : 476\n",
      "Pangrati : 384\n"
     ]
    }
   ],
   "source": [
    "df.sort_values('number_of_reviews',inplace = True,ascending=False)\n",
    "n_list=df['neighbourhood'].value_counts()[:5].index.tolist()\n",
    "review_num=df['number_of_reviews'].value_counts()[:5].tolist()\n",
    "for i in range(0,5):\n",
    "    print(n_list[i],\": %d\"%review_num[i])"
   ]
  },
  {
   "cell_type": "code",
   "execution_count": null,
   "metadata": {},
   "outputs": [],
   "source": [
    "#Question 1.4"
   ]
  },
  {
   "cell_type": "code",
   "execution_count": null,
   "metadata": {},
   "outputs": [],
   "source": []
  }
 ],
 "metadata": {
  "kernelspec": {
   "display_name": "Python 3",
   "language": "python",
   "name": "python3"
  },
  "language_info": {
   "codemirror_mode": {
    "name": "ipython",
    "version": 3
   },
   "file_extension": ".py",
   "mimetype": "text/x-python",
   "name": "python",
   "nbconvert_exporter": "python",
   "pygments_lexer": "ipython3",
   "version": "3.7.6"
  }
 },
 "nbformat": 4,
 "nbformat_minor": 4
}
